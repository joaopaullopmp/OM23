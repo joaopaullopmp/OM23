{
  "nbformat": 4,
  "nbformat_minor": 0,
  "metadata": {
    "colab": {
      "provenance": []
    },
    "kernelspec": {
      "name": "python3",
      "display_name": "Python 3"
    },
    "language_info": {
      "name": "python"
    }
  },
  "cells": [
    {
      "cell_type": "markdown",
      "source": [
        "# LISTA DE EXERCÍCIOS 1 - TRIMESTRE 2"
      ],
      "metadata": {
        "id": "z4KCYFdZmlJl"
      }
    },
    {
      "cell_type": "markdown",
      "source": [
        "1) Escrever um programa em Python que leia uma temperatura em graus Celsius e apresente-a convertida em graus Fahrenheit.\n",
        "A fórmula de conversão é: F = C'*+(9.0/5.0) +32.0, sendo F a temperatura em Fahrenheit e C a temperatura em Celsius."
      ],
      "metadata": {
        "id": "fraCJWqxmsmu"
      }
    },
    {
      "cell_type": "markdown",
      "source": [
        "2) Escrever um programa em Python que leia uma temperatura em graus Fahrenheit e apresente-a convertida em graus Celsius. \n",
        "A fórmula de conversão é: C = 5.0 * (F — 32.0)/9.0, sendo C a temperatura em Celsius e F a temperatura em Fahrenheit."
      ],
      "metadata": {
        "id": "EgBsSaTvmv_J"
      }
    },
    {
      "cell_type": "markdown",
      "source": [
        "3) Escrever um programa em Python que leia o valor da hora de trabalho (em reais) e número de horas trabalhadas no mês. Imprima o valor a ser pago ao funcionário, adicionando 10% sobre o valor calculado."
      ],
      "metadata": {
        "id": "qgJpD2WMm7SF"
      }
    },
    {
      "cell_type": "markdown",
      "source": [
        "4) Escrever um programa em Python que leia o salário-base de um funcionário. Calcule e imprima o salário a receber, sabendo-se que esse funcionário tem uma gratificação de 5% sobre o salário-base. Além disso, ele paga 7% de imposto sobre o salário-base."
      ],
      "metadata": {
        "id": "VvHBOrIpm_yS"
      }
    },
    {
      "cell_type": "markdown",
      "source": [
        "5) Escreva um programa em Python de ajuda para vendedores. A partir de um valor total lido, mostre:\n",
        " - Total a pagar com desconto de 10%;\n",
        " - O valor de cada parcela, no parcelamento de 3x sem juros;\n",
        " - A comissão do vendedor, no caso da venda ser a vista (5% sobre o valor com des-\n",
        "conto);\n",
        " - A comissão do vendedor, no caso da venda ser parcelada (5% sobre o valor total)."
      ],
      "metadata": {
        "id": "gmFMQaTKnMp_"
      }
    }
  ]
}